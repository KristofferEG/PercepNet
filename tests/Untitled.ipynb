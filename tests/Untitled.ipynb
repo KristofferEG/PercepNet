{
 "cells": [
  {
   "cell_type": "code",
   "execution_count": 2,
   "id": "fd5dcb5a",
   "metadata": {},
   "outputs": [],
   "source": [
    "import torch\n",
    "from torch import nn"
   ]
  },
  {
   "cell_type": "code",
   "execution_count": 22,
   "id": "fcc8b733",
   "metadata": {},
   "outputs": [],
   "source": [
    "conv1 = nn.Conv1d(2, 3, 3 , stride=1, padding=1)\n",
    "test_input = torch.zeros([1,2,3])+0.5"
   ]
  },
  {
   "cell_type": "code",
   "execution_count": 23,
   "id": "5107bf4b",
   "metadata": {},
   "outputs": [
    {
     "data": {
      "text/plain": [
       "torch.Size([3, 2, 3])"
      ]
     },
     "execution_count": 23,
     "metadata": {},
     "output_type": "execute_result"
    }
   ],
   "source": [
    "conv1.weight.size()\n",
    "#input 1\n",
    "#kernal_size 2\n",
    "#output 0"
   ]
  },
  {
   "cell_type": "code",
   "execution_count": 24,
   "id": "abde78fb",
   "metadata": {},
   "outputs": [
    {
     "data": {
      "text/plain": [
       "torch.Size([3, 2, 3])"
      ]
     },
     "execution_count": 24,
     "metadata": {},
     "output_type": "execute_result"
    }
   ],
   "source": [
    "conv1.weight.permute(2,1,0).size()"
   ]
  },
  {
   "cell_type": "code",
   "execution_count": 25,
   "id": "e939b320",
   "metadata": {},
   "outputs": [
    {
     "data": {
      "text/plain": [
       "torch.Size([3])"
      ]
     },
     "execution_count": 25,
     "metadata": {},
     "output_type": "execute_result"
    }
   ],
   "source": [
    "conv1.bias.size()"
   ]
  },
  {
   "cell_type": "code",
   "execution_count": 29,
   "id": "91e7541b",
   "metadata": {},
   "outputs": [
    {
     "data": {
      "text/plain": [
       "torch.Size([1, 3, 3])"
      ]
     },
     "execution_count": 29,
     "metadata": {},
     "output_type": "execute_result"
    }
   ],
   "source": [
    "conv1(test_input).size()"
   ]
  },
  {
   "cell_type": "code",
   "execution_count": 12,
   "id": "6bac8174",
   "metadata": {},
   "outputs": [],
   "source": [
    "gru1 = nn.GRU(2, 3, 1, batch_first=True)\n",
    "gru_test_input = torch.zeros([1,3,2])+0.5\n",
    "gru1_output = gru1(gru_test_input)"
   ]
  },
  {
   "cell_type": "code",
   "execution_count": 13,
   "id": "81ac42fe",
   "metadata": {},
   "outputs": [
    {
     "data": {
      "text/plain": [
       "torch.Size([1, 3, 3])"
      ]
     },
     "execution_count": 13,
     "metadata": {},
     "output_type": "execute_result"
    }
   ],
   "source": [
    "gru1_output[0].size()"
   ]
  },
  {
   "cell_type": "code",
   "execution_count": 44,
   "id": "037748c9",
   "metadata": {},
   "outputs": [
    {
     "data": {
      "text/plain": [
       "Parameter containing:\n",
       "tensor([[ 0.5379,  0.3498],\n",
       "        [ 0.0668, -0.1479],\n",
       "        [-0.4899, -0.5370],\n",
       "        [-0.0808, -0.2870],\n",
       "        [-0.5043,  0.0989],\n",
       "        [ 0.0374, -0.0436],\n",
       "        [-0.5452, -0.2297],\n",
       "        [ 0.5193,  0.1725],\n",
       "        [ 0.3456,  0.0709]], requires_grad=True)"
      ]
     },
     "execution_count": 44,
     "metadata": {},
     "output_type": "execute_result"
    }
   ],
   "source": [
    "gru1.weight_ih_l0"
   ]
  },
  {
   "cell_type": "code",
   "execution_count": 15,
   "id": "6bb3c098",
   "metadata": {},
   "outputs": [],
   "source": [
    "import keras\n",
    "import tensorflow\n",
    "from keras import layers"
   ]
  },
  {
   "cell_type": "code",
   "execution_count": 10,
   "id": "a310a67f",
   "metadata": {},
   "outputs": [],
   "source": [
    "keras_conv1 = layers.Conv1D(3, 2, padding='same', activation='tanh', name='feature_conv1')"
   ]
  },
  {
   "cell_type": "code",
   "execution_count": 11,
   "id": "9afb23f3",
   "metadata": {},
   "outputs": [],
   "source": [
    "input_shape = (1,3,4)\n",
    "x = tensorflow.random.normal(input_shape)\n",
    "y = keras_conv1(x)"
   ]
  },
  {
   "cell_type": "code",
   "execution_count": 12,
   "id": "72c5296e",
   "metadata": {},
   "outputs": [],
   "source": [
    "weights =  keras_conv1.get_weights()"
   ]
  },
  {
   "cell_type": "code",
   "execution_count": 13,
   "id": "18315a2e",
   "metadata": {},
   "outputs": [
    {
     "data": {
      "text/plain": [
       "(2, 4, 3)"
      ]
     },
     "execution_count": 13,
     "metadata": {},
     "output_type": "execute_result"
    }
   ],
   "source": [
    "weights[0].shape\n",
    "#input 1\n",
    "#kernal_size 0\n",
    "#output 2"
   ]
  },
  {
   "cell_type": "code",
   "execution_count": 15,
   "id": "757e6b12",
   "metadata": {},
   "outputs": [
    {
     "data": {
      "text/plain": [
       "(3,)"
      ]
     },
     "execution_count": 15,
     "metadata": {},
     "output_type": "execute_result"
    }
   ],
   "source": [
    "weights[1].shape"
   ]
  },
  {
   "cell_type": "code",
   "execution_count": 42,
   "id": "6cd8bedc",
   "metadata": {},
   "outputs": [],
   "source": [
    "keras_gru1 = layers.GRU(4, return_sequences=True, return_state=True, recurrent_activation=\"sigmoid\", reset_after='true', name='gru_a',)\n",
    "input_shape = (1,3,2)\n",
    "x = tensorflow.random.normal(input_shape)\n",
    "y = keras_gru1(x)"
   ]
  },
  {
   "cell_type": "code",
   "execution_count": 43,
   "id": "c3b4b238",
   "metadata": {},
   "outputs": [
    {
     "data": {
      "text/plain": [
       "(2, 12)"
      ]
     },
     "execution_count": 43,
     "metadata": {},
     "output_type": "execute_result"
    }
   ],
   "source": [
    "weights =  keras_gru1.get_weights()\n",
    "weights[0].shape"
   ]
  }
 ],
 "metadata": {
  "kernelspec": {
   "display_name": "Python 3",
   "language": "python",
   "name": "python3"
  },
  "language_info": {
   "codemirror_mode": {
    "name": "ipython",
    "version": 3
   },
   "file_extension": ".py",
   "mimetype": "text/x-python",
   "name": "python",
   "nbconvert_exporter": "python",
   "pygments_lexer": "ipython3",
   "version": "3.8.5"
  }
 },
 "nbformat": 4,
 "nbformat_minor": 5
}
