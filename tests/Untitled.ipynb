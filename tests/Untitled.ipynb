{
 "cells": [
  {
   "cell_type": "code",
   "execution_count": 3,
   "id": "fd5dcb5a",
   "metadata": {},
   "outputs": [],
   "source": [
    "import torch\n",
    "from torch import nn"
   ]
  },
  {
   "cell_type": "code",
   "execution_count": 4,
   "id": "fcc8b733",
   "metadata": {},
   "outputs": [],
   "source": [
    "conv1 = nn.Conv1d(2, 3, 3 , stride=1, padding=1)\n",
    "test_input = torch.zeros([1,2,3])+0.5"
   ]
  },
  {
   "cell_type": "code",
   "execution_count": 5,
   "id": "5107bf4b",
   "metadata": {},
   "outputs": [
    {
     "data": {
      "text/plain": [
       "torch.Size([3, 2, 3])"
      ]
     },
     "execution_count": 5,
     "metadata": {},
     "output_type": "execute_result"
    }
   ],
   "source": [
    "conv1.weight.size()\n",
    "#input 1\n",
    "#kernal_size 2\n",
    "#output 0"
   ]
  },
  {
   "cell_type": "code",
   "execution_count": 6,
   "id": "abde78fb",
   "metadata": {},
   "outputs": [
    {
     "data": {
      "text/plain": [
       "torch.Size([3, 2, 3])"
      ]
     },
     "execution_count": 6,
     "metadata": {},
     "output_type": "execute_result"
    }
   ],
   "source": [
    "conv1.weight.permute(2,1,0).size()"
   ]
  },
  {
   "cell_type": "code",
   "execution_count": 7,
   "id": "e939b320",
   "metadata": {},
   "outputs": [
    {
     "data": {
      "text/plain": [
       "torch.Size([3])"
      ]
     },
     "execution_count": 7,
     "metadata": {},
     "output_type": "execute_result"
    }
   ],
   "source": [
    "conv1.bias.size()"
   ]
  },
  {
   "cell_type": "code",
   "execution_count": 8,
   "id": "91e7541b",
   "metadata": {},
   "outputs": [
    {
     "data": {
      "text/plain": [
       "torch.Size([1, 3, 3])"
      ]
     },
     "execution_count": 8,
     "metadata": {},
     "output_type": "execute_result"
    }
   ],
   "source": [
    "conv1(test_input).size()"
   ]
  },
  {
   "cell_type": "code",
   "execution_count": 33,
   "id": "24613d7c",
   "metadata": {},
   "outputs": [],
   "source": [
    "gru1 = nn.GRU(2, 4, 1, batch_first=True)\n",
    "gru_test_input = torch.zeros([1,3,2])+0.5\n",
    "gru1_output = gru1(gru_test_input)"
   ]
  },
  {
   "cell_type": "code",
   "execution_count": 34,
   "id": "81ac42fe",
   "metadata": {},
   "outputs": [
    {
     "data": {
      "text/plain": [
       "(tensor([[[ 0.1663,  0.0319, -0.1647, -0.0005],\n",
       "          [ 0.2639, -0.0034, -0.2531,  0.0054],\n",
       "          [ 0.3241, -0.0524, -0.2989,  0.0161]]], grad_fn=<TransposeBackward1>),\n",
       " tensor([[[ 0.3241, -0.0524, -0.2989,  0.0161]]], grad_fn=<StackBackward>))"
      ]
     },
     "execution_count": 34,
     "metadata": {},
     "output_type": "execute_result"
    }
   ],
   "source": [
    "gru1_output"
   ]
  },
  {
   "cell_type": "code",
   "execution_count": 44,
   "id": "5be1c088",
   "metadata": {},
   "outputs": [
    {
     "data": {
      "text/plain": [
       "tensor([0., 0., 0., 0., 0., 0., 0., 0., 0., 0., 0., 0.])"
      ]
     },
     "execution_count": 44,
     "metadata": {},
     "output_type": "execute_result"
    }
   ],
   "source": [
    "gru1.bias_ih_l0.data.fill_(0)\n",
    "gru1.bias_hh_l0.data.fill_(0)"
   ]
  },
  {
   "cell_type": "code",
   "execution_count": 47,
   "id": "5156b364",
   "metadata": {},
   "outputs": [
    {
     "data": {
      "text/plain": [
       "(tensor([[[ 0.1151,  0.1326, -0.1162,  0.1244],\n",
       "          [ 0.1718,  0.2026, -0.1841,  0.1925],\n",
       "          [ 0.1984,  0.2380, -0.2226,  0.2310]]], grad_fn=<TransposeBackward1>),\n",
       " tensor([[[ 0.1984,  0.2380, -0.2226,  0.2310]]], grad_fn=<StackBackward>))"
      ]
     },
     "execution_count": 47,
     "metadata": {},
     "output_type": "execute_result"
    }
   ],
   "source": [
    "gru1_output = gru1(gru_test_input)\n",
    "gru1_output"
   ]
  },
  {
   "cell_type": "code",
   "execution_count": 32,
   "id": "31dfa209",
   "metadata": {},
   "outputs": [
    {
     "name": "stdout",
     "output_type": "stream",
     "text": [
      "y\n"
     ]
    }
   ],
   "source": [
    "if isinstance(gru1,nn.GRU):\n",
    "    print('y')"
   ]
  },
  {
   "cell_type": "code",
   "execution_count": 11,
   "id": "037748c9",
   "metadata": {},
   "outputs": [
    {
     "data": {
      "text/plain": [
       "Parameter containing:\n",
       "tensor([[-0.4915, -0.2800],\n",
       "        [ 0.1494,  0.4230],\n",
       "        [ 0.1987, -0.1954],\n",
       "        [-0.2430,  0.5576],\n",
       "        [ 0.1902,  0.0045],\n",
       "        [-0.1755,  0.3100],\n",
       "        [ 0.3749,  0.1937],\n",
       "        [ 0.4891, -0.5212],\n",
       "        [ 0.2451, -0.1316]], requires_grad=True)"
      ]
     },
     "execution_count": 11,
     "metadata": {},
     "output_type": "execute_result"
    }
   ],
   "source": [
    "gru1.weight_ih_l0"
   ]
  },
  {
   "cell_type": "code",
   "execution_count": 12,
   "id": "6bb3c098",
   "metadata": {},
   "outputs": [],
   "source": [
    "import keras\n",
    "import tensorflow\n",
    "from keras import layers"
   ]
  },
  {
   "cell_type": "code",
   "execution_count": 13,
   "id": "a310a67f",
   "metadata": {},
   "outputs": [],
   "source": [
    "keras_conv1 = layers.Conv1D(3, 2, padding='same', activation='tanh', name='feature_conv1')"
   ]
  },
  {
   "cell_type": "code",
   "execution_count": 14,
   "id": "9afb23f3",
   "metadata": {},
   "outputs": [],
   "source": [
    "input_shape = (1,3,4)\n",
    "x = tensorflow.random.normal(input_shape)\n",
    "y = keras_conv1(x)"
   ]
  },
  {
   "cell_type": "code",
   "execution_count": 15,
   "id": "72c5296e",
   "metadata": {},
   "outputs": [],
   "source": [
    "weights =  keras_conv1.get_weights()"
   ]
  },
  {
   "cell_type": "code",
   "execution_count": 16,
   "id": "18315a2e",
   "metadata": {},
   "outputs": [
    {
     "data": {
      "text/plain": [
       "(2, 4, 3)"
      ]
     },
     "execution_count": 16,
     "metadata": {},
     "output_type": "execute_result"
    }
   ],
   "source": [
    "weights[0].shape\n",
    "#input 1\n",
    "#kernal_size 0\n",
    "#output 2"
   ]
  },
  {
   "cell_type": "code",
   "execution_count": 17,
   "id": "757e6b12",
   "metadata": {},
   "outputs": [
    {
     "data": {
      "text/plain": [
       "(3,)"
      ]
     },
     "execution_count": 17,
     "metadata": {},
     "output_type": "execute_result"
    }
   ],
   "source": [
    "weights[1].shape"
   ]
  },
  {
   "cell_type": "code",
   "execution_count": 28,
   "id": "6cd8bedc",
   "metadata": {},
   "outputs": [],
   "source": [
    "keras_gru1 = layers.GRU(4,return_sequences=True, recurrent_activation=\"sigmoid\", reset_after='true', name='gru_a',)\n",
    "input_shape = (1,3,2)\n",
    "x = tensorflow.random.normal(input_shape)\n",
    "y = keras_gru1(x)"
   ]
  },
  {
   "cell_type": "code",
   "execution_count": 29,
   "id": "c3b4b238",
   "metadata": {},
   "outputs": [
    {
     "data": {
      "text/plain": [
       "TensorShape([1, 3, 4])"
      ]
     },
     "execution_count": 29,
     "metadata": {},
     "output_type": "execute_result"
    }
   ],
   "source": [
    "weights =  keras_gru1.get_weights()\n",
    "y.shape"
   ]
  },
  {
   "cell_type": "code",
   "execution_count": null,
   "id": "c5ece6c4",
   "metadata": {},
   "outputs": [],
   "source": []
  },
  {
   "cell_type": "code",
   "execution_count": null,
   "id": "b44c780b",
   "metadata": {},
   "outputs": [],
   "source": []
  }
 ],
 "metadata": {
  "kernelspec": {
   "display_name": "Python 3",
   "language": "python",
   "name": "python3"
  },
  "language_info": {
   "codemirror_mode": {
    "name": "ipython",
    "version": 3
   },
   "file_extension": ".py",
   "mimetype": "text/x-python",
   "name": "python",
   "nbconvert_exporter": "python",
   "pygments_lexer": "ipython3",
   "version": "3.8.5"
  }
 },
 "nbformat": 4,
 "nbformat_minor": 5
}
